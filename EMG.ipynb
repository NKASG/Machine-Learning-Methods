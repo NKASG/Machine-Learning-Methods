{
  "nbformat": 4,
  "nbformat_minor": 0,
  "metadata": {
    "colab": {
      "name": "EMG",
      "provenance": [],
      "collapsed_sections": [],
      "authorship_tag": "ABX9TyPYY+vzgXrGn3sWMLeEOs0r",
      "include_colab_link": true
    },
    "kernelspec": {
      "name": "python3",
      "display_name": "Python 3"
    },
    "language_info": {
      "name": "python"
    }
  },
  "cells": [
    {
      "cell_type": "markdown",
      "metadata": {
        "id": "view-in-github",
        "colab_type": "text"
      },
      "source": [
        "<a href=\"https://colab.research.google.com/github/NKASG/Machine-Learning-Methods/blob/main/EMG.ipynb\" target=\"_parent\"><img src=\"https://colab.research.google.com/assets/colab-badge.svg\" alt=\"Open In Colab\"/></a>"
      ]
    },
    {
      "cell_type": "code",
      "execution_count": 5,
      "metadata": {
        "id": "eKI2ifV32qut"
      },
      "outputs": [],
      "source": [
        "import pandas as pd\n",
        "import numpy as np\n",
        "import matplotlib.pyplot as plt\n",
        "import sklearn\n",
        "from sklearn import model_selection\n"
      ]
    },
    {
      "cell_type": "code",
      "source": [
        "data = pd.read_csv('/content/EMG-data.csv')"
      ],
      "metadata": {
        "id": "IE52jE2u39pA"
      },
      "execution_count": 6,
      "outputs": []
    },
    {
      "cell_type": "code",
      "source": [
        "##drop gesture 0 because it offers no information due to its unmarked nature\n",
        "index_numbers_1=data[data[\"class\"]==0].index \n",
        "data.drop(index_numbers_1,inplace=True)\n",
        "##drop gesture 7 because it offers no information due to it being performed \n",
        "##by just two out of 36 patients \n",
        "index_numbers_2=data[data[\"class\"]==7].index\n",
        "data.drop(index_numbers_2,inplace=True)\n"
      ],
      "metadata": {
        "execution": {
          "iopub.status.busy": "2022-06-05T02:56:58.980392Z",
          "iopub.execute_input": "2022-06-05T02:56:58.98089Z",
          "iopub.status.idle": "2022-06-05T02:57:00.529246Z",
          "shell.execute_reply.started": "2022-06-05T02:56:58.980846Z",
          "shell.execute_reply": "2022-06-05T02:57:00.528462Z"
        },
        "trusted": true,
        "id": "urvIb1sh5wfR"
      },
      "execution_count": 7,
      "outputs": []
    },
    {
      "cell_type": "code",
      "source": [
        "data.drop(columns = ['time'] , inplace = True)"
      ],
      "metadata": {
        "id": "YEz8EpUrdyru"
      },
      "execution_count": 8,
      "outputs": []
    },
    {
      "cell_type": "code",
      "source": [
        "data = data.groupby(['class' , 'label'])"
      ],
      "metadata": {
        "id": "ov02aNXszfDz"
      },
      "execution_count": 9,
      "outputs": []
    },
    {
      "cell_type": "code",
      "source": [
        "data.head()"
      ],
      "metadata": {
        "id": "dgnbylWs0TRA"
      },
      "execution_count": null,
      "outputs": []
    },
    {
      "cell_type": "markdown",
      "source": [
        "EXTRACTION OF TIME DOMAIN FEATURES"
      ],
      "metadata": {
        "id": "vu9iPMVW_5Lf"
      }
    },
    {
      "cell_type": "code",
      "source": [
        "# extractiing time-domain features\n",
        "#1 root mean square value\n",
        "def rms(data):\n",
        "  return  np.sqrt(np.mean(data**2,axis = 0))\n",
        "#2 simple square integral\n",
        "def ssi(data):\n",
        "  return np.sum((data **2),axis = 0)\n",
        "#3 absolute differential signal\n",
        "def abs_diff(data):\n",
        "  return  np.sum(np.abs(np.diff(data,axis=0)),axis=0) "
      ],
      "metadata": {
        "execution": {
          "iopub.status.busy": "2022-06-05T02:57:00.667749Z",
          "iopub.execute_input": "2022-06-05T02:57:00.668088Z",
          "iopub.status.idle": "2022-06-05T02:57:00.674535Z",
          "shell.execute_reply.started": "2022-06-05T02:57:00.668058Z",
          "shell.execute_reply": "2022-06-05T02:57:00.672993Z"
        },
        "trusted": true,
        "id": "4ZjyQKgJ5wfU"
      },
      "execution_count": 9,
      "outputs": []
    },
    {
      "cell_type": "code",
      "source": [
        "##tabulating the aggregated sEMG features\n",
        "data_TD=data.agg(['min','max',rms,ssi,abs_diff])"
      ],
      "metadata": {
        "id": "AFqLWotUx0jD"
      },
      "execution_count": 10,
      "outputs": []
    },
    {
      "cell_type": "code",
      "source": [
        "data_TD=data_TD.reset_index()"
      ],
      "metadata": {
        "execution": {
          "iopub.status.busy": "2022-06-05T02:57:35.541832Z",
          "iopub.execute_input": "2022-06-05T02:57:35.542436Z",
          "iopub.status.idle": "2022-06-05T02:57:35.59691Z",
          "shell.execute_reply.started": "2022-06-05T02:57:35.542398Z",
          "shell.execute_reply": "2022-06-05T02:57:35.596044Z"
        },
        "trusted": true,
        "id": "RxPfv1-i5wf1"
      },
      "execution_count": 11,
      "outputs": []
    },
    {
      "cell_type": "code",
      "source": [
        "data_TD.head()\n"
      ],
      "metadata": {
        "id": "neYBGJxWvUCV"
      },
      "execution_count": null,
      "outputs": []
    },
    {
      "cell_type": "markdown",
      "source": [
        "EXTRACTING FREQUENCY DOMAIN FEATURES"
      ],
      "metadata": {
        "id": "AkAke0lzAY7L"
      }
    },
    {
      "cell_type": "code",
      "source": [
        "#extracting frequency domain features\n",
        "def mean(data):\n",
        "  return np.mean(data)\n",
        "def median (data):\n",
        "  return np.median(data)\n",
        "def variance (data):\n",
        "  return np.var(data)\n",
        "def std (data):\n",
        "  return np.std(data)\n",
        "\n"
      ],
      "metadata": {
        "id": "CyxUaOjGDxZI"
      },
      "execution_count": 13,
      "outputs": []
    },
    {
      "cell_type": "code",
      "source": [
        "data_FD = data.agg ([mean,median,variance,std])\n"
      ],
      "metadata": {
        "id": "VLofXwvBFzOJ"
      },
      "execution_count": 14,
      "outputs": []
    },
    {
      "cell_type": "code",
      "source": [
        "data_FD= data_FD.reset_index()"
      ],
      "metadata": {
        "id": "iQweSUWOTbFD"
      },
      "execution_count": 15,
      "outputs": []
    },
    {
      "cell_type": "code",
      "source": [
        "data_FD.head()"
      ],
      "metadata": {
        "id": "05Bnecz2cDmc"
      },
      "execution_count": null,
      "outputs": []
    },
    {
      "cell_type": "markdown",
      "source": [
        "PREDICTION IN TIME DOMAIN"
      ],
      "metadata": {
        "id": "tgGKEEL24C9R"
      }
    },
    {
      "cell_type": "code",
      "source": [
        "features_1 = data_FD.drop(columns = ['class','label'])"
      ],
      "metadata": {
        "id": "SgY3TImKpGsE"
      },
      "execution_count": null,
      "outputs": []
    },
    {
      "cell_type": "code",
      "source": [
        "label = data_FD['class']"
      ],
      "metadata": {
        "id": "sSRKEhWK1QBT"
      },
      "execution_count": 97,
      "outputs": []
    },
    {
      "cell_type": "code",
      "source": [
        "features_1.head()"
      ],
      "metadata": {
        "id": "g3Xmu4GGpMpO"
      },
      "execution_count": null,
      "outputs": []
    },
    {
      "cell_type": "code",
      "source": [
        "X_train, X_test, y_train, y_test = sklearn.model_selection.train_test_split(features_1,label, test_size=0.1,train_size=0.9)"
      ],
      "metadata": {
        "id": "lwaVYA-y02Jf"
      },
      "execution_count": 122,
      "outputs": []
    },
    {
      "cell_type": "code",
      "source": [
        "X_train.info()"
      ],
      "metadata": {
        "id": "-Kj_ZaE6qBx4"
      },
      "execution_count": null,
      "outputs": []
    },
    {
      "cell_type": "code",
      "source": [
        "X_train_1 =np.int64(X_train.values)\n",
        "X_test_1 =np.int64( X_test.values)\n",
        "y_train_1 =np.int64( y_train.values)\n",
        "y_test_1 =np.int64( y_test.values)"
      ],
      "metadata": {
        "id": "Encf2pRV1UmP"
      },
      "execution_count": 134,
      "outputs": []
    },
    {
      "cell_type": "code",
      "source": [
        "from sklearn.svm import SVC\n",
        "from sklearn import linear_model"
      ],
      "metadata": {
        "id": "uY-V_EgWXT1O"
      },
      "execution_count": 135,
      "outputs": []
    },
    {
      "cell_type": "code",
      "source": [
        "model = SVC()"
      ],
      "metadata": {
        "id": "lXrqJLGO1p9-"
      },
      "execution_count": 136,
      "outputs": []
    },
    {
      "cell_type": "code",
      "source": [
        "model.fit(X_train_1 , y_train_1)"
      ],
      "metadata": {
        "id": "JmotUK8fX1qd"
      },
      "execution_count": null,
      "outputs": []
    },
    {
      "cell_type": "code",
      "source": [
        "y_predict = model.predict(X_test_1)"
      ],
      "metadata": {
        "id": "5wXo9tOY3Ogv"
      },
      "execution_count": 138,
      "outputs": []
    },
    {
      "cell_type": "code",
      "source": [
        "y_predict.dtype"
      ],
      "metadata": {
        "id": "s6bMT3Ce5AuB"
      },
      "execution_count": null,
      "outputs": []
    },
    {
      "cell_type": "code",
      "source": [
        "from sklearn.metrics import f1_score\n",
        "from sklearn.metrics import confusion_matrix\n",
        "from sklearn.metrics import accuracy_score\n",
        "from sklearn.metrics import r2_score"
      ],
      "metadata": {
        "id": "HGi_9R3e1pOt"
      },
      "execution_count": 140,
      "outputs": []
    },
    {
      "cell_type": "code",
      "source": [
        "confusion_matrix(y_test_1 , y_predict )"
      ],
      "metadata": {
        "id": "AXGPB9BJ13bi"
      },
      "execution_count": null,
      "outputs": []
    },
    {
      "cell_type": "code",
      "source": [
        "r2_score(y_test_1 ,y_predict)"
      ],
      "metadata": {
        "colab": {
          "base_uri": "https://localhost:8080/"
        },
        "id": "mk4f8h4H9hxq",
        "outputId": "602f2b01-eb7b-4d7b-f1ba-b37bf655fc8b"
      },
      "execution_count": 142,
      "outputs": [
        {
          "output_type": "execute_result",
          "data": {
            "text/plain": [
              "-1.2129783693843597"
            ]
          },
          "metadata": {},
          "execution_count": 142
        }
      ]
    },
    {
      "cell_type": "code",
      "source": [
        "accuracy_score(y_test_1 ,y_predict)"
      ],
      "metadata": {
        "colab": {
          "base_uri": "https://localhost:8080/"
        },
        "id": "8YLi3Bt-45Rv",
        "outputId": "232a6c51-6d77-4456-cae4-2240c46136e6"
      },
      "execution_count": 143,
      "outputs": [
        {
          "output_type": "execute_result",
          "data": {
            "text/plain": [
              "0.07142857142857142"
            ]
          },
          "metadata": {},
          "execution_count": 143
        }
      ]
    },
    {
      "cell_type": "markdown",
      "source": [
        "PREDICTION IN TIME DOMAIN"
      ],
      "metadata": {
        "id": "ClY44R_u-yBr"
      }
    },
    {
      "cell_type": "code",
      "source": [
        "features_2 = data_TD.drop(columns = ['class','label'])"
      ],
      "metadata": {
        "colab": {
          "base_uri": "https://localhost:8080/"
        },
        "id": "iV6w9DB6-yBt",
        "outputId": "7a2f3143-0feb-4ea9-9102-faa584aebe3e"
      },
      "execution_count": 145,
      "outputs": [
        {
          "output_type": "stream",
          "name": "stderr",
          "text": [
            "/usr/local/lib/python3.7/dist-packages/pandas/core/generic.py:4150: PerformanceWarning: dropping on a non-lexsorted multi-index without a level parameter may impact performance.\n",
            "  obj = obj._drop_axis(labels, axis, level=level, errors=errors)\n"
          ]
        }
      ]
    },
    {
      "cell_type": "code",
      "source": [
        "label_2 = data_TD['class']"
      ],
      "metadata": {
        "id": "HlB7AVqC-yBt"
      },
      "execution_count": 146,
      "outputs": []
    },
    {
      "cell_type": "code",
      "source": [
        "features_2.head()"
      ],
      "metadata": {
        "id": "paPYEO8R-yBu"
      },
      "execution_count": null,
      "outputs": []
    },
    {
      "cell_type": "code",
      "source": [
        "X_train, X_test, y_train, y_test = sklearn.model_selection.train_test_split(features_2,label_2, test_size=0.2,train_size=0.8)"
      ],
      "metadata": {
        "id": "cZxHKxYl-yBu"
      },
      "execution_count": 148,
      "outputs": []
    },
    {
      "cell_type": "code",
      "source": [
        "X_train.info()"
      ],
      "metadata": {
        "id": "SjDm-6ir-yBu"
      },
      "execution_count": null,
      "outputs": []
    },
    {
      "cell_type": "code",
      "source": [
        "X_train_1 =np.int32(X_train.values)\n",
        "X_test_1 =np.int32( X_test.values)\n",
        "y_train_1 =np.int32( y_train.values)\n",
        "y_test_1 =np.int32( y_test.values)"
      ],
      "metadata": {
        "id": "rsqrmqPQ-yBu"
      },
      "execution_count": 150,
      "outputs": []
    },
    {
      "cell_type": "code",
      "source": [
        "from sklearn.svm import SVC\n",
        "from sklearn import linear_model"
      ],
      "metadata": {
        "id": "gsviyNb--yBx"
      },
      "execution_count": 155,
      "outputs": []
    },
    {
      "cell_type": "code",
      "source": [
        "model = SVC()"
      ],
      "metadata": {
        "id": "AJQHhwG8-yBz"
      },
      "execution_count": 156,
      "outputs": []
    },
    {
      "cell_type": "code",
      "source": [
        "model.fit(X_train_1 , y_train_1)"
      ],
      "metadata": {
        "colab": {
          "base_uri": "https://localhost:8080/"
        },
        "outputId": "ec5e9034-5f17-4d51-ed8d-0a4e339e1db4",
        "id": "Gg2MQGTW-yB0"
      },
      "execution_count": 157,
      "outputs": [
        {
          "output_type": "execute_result",
          "data": {
            "text/plain": [
              "SVC()"
            ]
          },
          "metadata": {},
          "execution_count": 157
        }
      ]
    },
    {
      "cell_type": "code",
      "source": [
        "y_predict = model.predict(X_test_1)"
      ],
      "metadata": {
        "id": "rNWpH060-yB0"
      },
      "execution_count": 158,
      "outputs": []
    },
    {
      "cell_type": "code",
      "source": [
        "y_predict.dtype"
      ],
      "metadata": {
        "colab": {
          "base_uri": "https://localhost:8080/"
        },
        "outputId": "b74fe9ba-fc6f-4b10-8a71-e117efc207e5",
        "id": "8grZrJA4-yB0"
      },
      "execution_count": 159,
      "outputs": [
        {
          "output_type": "execute_result",
          "data": {
            "text/plain": [
              "dtype('int32')"
            ]
          },
          "metadata": {},
          "execution_count": 159
        }
      ]
    },
    {
      "cell_type": "code",
      "source": [
        "from sklearn.metrics import f1_score\n",
        "from sklearn.metrics import confusion_matrix\n",
        "from sklearn.metrics import accuracy_score\n",
        "from sklearn.metrics import r2_score"
      ],
      "metadata": {
        "id": "XhL1TNb9-yB1"
      },
      "execution_count": 160,
      "outputs": []
    },
    {
      "cell_type": "code",
      "source": [
        "confusion_matrix(y_test_1 , y_predict )"
      ],
      "metadata": {
        "colab": {
          "base_uri": "https://localhost:8080/"
        },
        "outputId": "dbd49715-bb2c-4bf3-e57e-1752e8c0d139",
        "id": "dxR9GXwZ-yB1"
      },
      "execution_count": 161,
      "outputs": [
        {
          "output_type": "execute_result",
          "data": {
            "text/plain": [
              "array([[0, 0, 0, 4, 0, 0],\n",
              "       [0, 0, 0, 5, 0, 0],\n",
              "       [0, 0, 0, 4, 0, 0],\n",
              "       [0, 0, 0, 2, 0, 0],\n",
              "       [0, 0, 0, 6, 0, 0],\n",
              "       [0, 0, 0, 6, 0, 0]])"
            ]
          },
          "metadata": {},
          "execution_count": 161
        }
      ]
    },
    {
      "cell_type": "code",
      "source": [
        "r2_score(y_test_1 ,y_predict)"
      ],
      "metadata": {
        "colab": {
          "base_uri": "https://localhost:8080/"
        },
        "outputId": "a472786e-7694-48e1-be53-9daa6deff9f0",
        "id": "UQ2UAHlO-yB2"
      },
      "execution_count": 162,
      "outputs": [
        {
          "output_type": "execute_result",
          "data": {
            "text/plain": [
              "-0.027049873203719432"
            ]
          },
          "metadata": {},
          "execution_count": 162
        }
      ]
    },
    {
      "cell_type": "code",
      "source": [
        "accuracy_score(y_test_1 ,y_predict)"
      ],
      "metadata": {
        "colab": {
          "base_uri": "https://localhost:8080/"
        },
        "outputId": "11cc7019-229f-4222-e829-27b1b0e7a9ce",
        "id": "2nRYrQDW-yB2"
      },
      "execution_count": 163,
      "outputs": [
        {
          "output_type": "execute_result",
          "data": {
            "text/plain": [
              "0.07407407407407407"
            ]
          },
          "metadata": {},
          "execution_count": 163
        }
      ]
    }
  ]
}